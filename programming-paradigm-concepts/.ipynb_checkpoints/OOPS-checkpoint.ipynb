{
 "cells": [
  {
   "cell_type": "markdown",
   "id": "39109250-a837-43ef-ad2c-5e5b91e4567c",
   "metadata": {},
   "source": [
    "# Object Oriented Programming in Python\n",
    "\n",
    "\n",
    "Overview:\n",
    "\n",
    "\n",
    "- A foundational programming paradigm where data is stored as attributes and code in the form of methods. \n",
    "- OOP is a way to build flexible and reusable code to develop more advanced software.\n",
    "- Software programs are more secure with the encapsulation approach.\n",
    "- It is usually easy to maintain the code written using OOPS structure.\n",
    "\n",
    "\n",
    "Fundamental Concepts:\n",
    "* Object\n",
    "* Class\n",
    "* Attribute\n",
    "* Method\n",
    "\n",
    "Core principles of OOP\n",
    "* Abstraction\n",
    "* Encapsulation\n",
    "* Inheritance\n",
    "* Polymorphism\n",
    "\n",
    "Abstraction\n",
    "    -  It means to simplify reality. \n"
   ]
  },
  {
   "cell_type": "markdown",
   "id": "18d9e8ec-dc8a-4d10-9da9-ab1ad96d1875",
   "metadata": {},
   "source": [
    "## Fundamental Concepts\n",
    "### Class\n",
    "* A class is a collection of objects.\n",
    "* It contains the blueprints or the prototype from which the ***objects*** are being created.\n",
    "> A class **car** is supposed to be a collection of cars\n",
    "\n",
    "### Object\n",
    "- An object is “a thing from the real world” of interest to the software application that we are building. \n",
    "- It is what you would want to store and process data about.\n",
    "- Also called as an entity or ***instance***. An object is created using a **class**\n",
    "> Your car is an object of the class car\n",
    "\n",
    "### Attribute\n",
    "* All the information about the blueprint of a car is provided as ***attributes***\n",
    "> Your car has attributes make, model, year, mileage, color, brakes, alloys\n",
    "* Two types of attributes\n",
    "    * **Class attributes**: These attributes are the same for all the instances of class\n",
    "        > warranty is usually 3 yrs, emission standard in most cars is \"Euro 6\" etc\n",
    "    * **Instance attributes**: These attributes are specific for an instance & are NOT necessary for initialize a class instance\n",
    "        > In addition to those in __init__ method, color, alloys etc\n",
    "* Attributes can be hidden using `__hiddenVariable`. To access these hidden variables, use `class._class__hiddenVariable` or `instance._class__hiddenVariable`\n",
    "\n",
    "### Method\n",
    "* All the behavior/functionality of a class is called as a ***method***\n",
    "* Methods can manipulate object's attributes and provide the functionalities defined by the class\n",
    "> You can get the most recent driving info of your car, or start your car etc\n",
    "\n",
    "#### Constructor or Initialize method:\n",
    "* Init method is called by default whenever you create an object from a ***class***\n",
    "* The variables passed into this `__init__` method and are necessary for any object of class car\n",
    "> A car must have a make, model, year although you can change its color, engine (mileage), brakes, alloys etc\n",
    "##### Self\n",
    "* The term “self” refers to the instance of the class that is currently being used.\n",
    "* By using the “self”  we can access the attributes and methods of the class instance in Python.\n",
    "* `__init__` method is called when we create an instance and all the methods and attributes of this class instance are initialized"
   ]
  },
  {
   "cell_type": "code",
   "execution_count": 13,
   "id": "3fb50d79-cdef-4544-8036-431616f01178",
   "metadata": {
    "jp-MarkdownHeadingCollapsed": true
   },
   "outputs": [],
   "source": [
    "class car:\n",
    "    #class variables/attributes\n",
    "    no_wheels = 4\n",
    "    warranty_period = 3\n",
    "    emission_standard = \"Euro 6\"\n",
    "    __k = 0 # hidden class attribute\n",
    "    def __init__(self, make, model, year):\n",
    "        #instance variables/attributes or parameters\n",
    "        self.make = make\n",
    "        self.model = model\n",
    "        self.year = year\n",
    "    def get_info(self):\n",
    "        print(f\"make: {self.make} \\nmodel: {self.model} \\nyear:{self.year}\")\n",
    "    def get_extended_warranty(self, no_years):\n",
    "        self.warranty_period += no_years # use this to change the class attribute for this particularinstance\n",
    "        car.warranty_period += no_years # use this to change the class attribute for entire class\n",
    "        "
   ]
  },
  {
   "cell_type": "code",
   "execution_count": 14,
   "id": "70aa9fa0-aecd-433d-9561-77a5cf6171c3",
   "metadata": {},
   "outputs": [
    {
     "name": "stdout",
     "output_type": "stream",
     "text": [
      "make: BMW \n",
      "model: 330i \n",
      "year:2022\n"
     ]
    },
    {
     "data": {
      "text/plain": [
       "6"
      ]
     },
     "execution_count": 14,
     "metadata": {},
     "output_type": "execute_result"
    }
   ],
   "source": [
    "a = car(\"BMW\", \"330i\", \"2022\")\n",
    "a.get_info()\n",
    "a.get_extended_warranty(3)\n",
    "a.warranty_period"
   ]
  },
  {
   "cell_type": "markdown",
   "id": "dc45092c-8791-45ef-ada7-21ec750841eb",
   "metadata": {},
   "source": [
    "Get list of all methods and attributes of an instance using `dir(instance)`"
   ]
  },
  {
   "cell_type": "code",
   "execution_count": 15,
   "id": "7483b6d9-c2fa-44ab-8740-bb7061b88c10",
   "metadata": {
    "scrolled": true
   },
   "outputs": [
    {
     "data": {
      "text/plain": [
       "['__class__',\n",
       " '__delattr__',\n",
       " '__dict__',\n",
       " '__dir__',\n",
       " '__doc__',\n",
       " '__eq__',\n",
       " '__format__',\n",
       " '__ge__',\n",
       " '__getattribute__',\n",
       " '__gt__',\n",
       " '__hash__',\n",
       " '__init__',\n",
       " '__init_subclass__',\n",
       " '__le__',\n",
       " '__lt__',\n",
       " '__module__',\n",
       " '__ne__',\n",
       " '__new__',\n",
       " '__reduce__',\n",
       " '__reduce_ex__',\n",
       " '__repr__',\n",
       " '__setattr__',\n",
       " '__sizeof__',\n",
       " '__str__',\n",
       " '__subclasshook__',\n",
       " '__weakref__',\n",
       " '_car__k',\n",
       " 'emission_standard',\n",
       " 'get_extended_warranty',\n",
       " 'get_info',\n",
       " 'make',\n",
       " 'model',\n",
       " 'no_wheels',\n",
       " 'warranty_period',\n",
       " 'year']"
      ]
     },
     "execution_count": 15,
     "metadata": {},
     "output_type": "execute_result"
    }
   ],
   "source": [
    "dir(a)"
   ]
  },
  {
   "cell_type": "code",
   "execution_count": 17,
   "id": "b5a0ac58-fc31-41f4-ac5b-80d9cc86b40b",
   "metadata": {},
   "outputs": [
    {
     "data": {
      "text/plain": [
       "0"
      ]
     },
     "execution_count": 17,
     "metadata": {},
     "output_type": "execute_result"
    }
   ],
   "source": [
    "a._car__k"
   ]
  },
  {
   "cell_type": "code",
   "execution_count": 18,
   "id": "162aaf6d-bb41-4253-9444-7a641eaec9c2",
   "metadata": {},
   "outputs": [
    {
     "data": {
      "text/plain": [
       "0"
      ]
     },
     "execution_count": 18,
     "metadata": {},
     "output_type": "execute_result"
    }
   ],
   "source": [
    "car._car__k"
   ]
  },
  {
   "cell_type": "code",
   "execution_count": 19,
   "id": "12ab3035-9b81-4829-a330-3ac4ce9d8b38",
   "metadata": {},
   "outputs": [
    {
     "data": {
      "text/plain": [
       "<method-wrapper '__repr__' of car object at 0x7ff59954dfa0>"
      ]
     },
     "execution_count": 19,
     "metadata": {},
     "output_type": "execute_result"
    }
   ],
   "source": [
    "a.__repr__"
   ]
  },
  {
   "cell_type": "code",
   "execution_count": null,
   "id": "64d68a8c-923b-4b16-a80c-eceb53daa500",
   "metadata": {},
   "outputs": [],
   "source": []
  },
  {
   "cell_type": "code",
   "execution_count": null,
   "id": "827443fc-66d6-4b19-b259-d0ea9ad985bc",
   "metadata": {},
   "outputs": [],
   "source": []
  },
  {
   "cell_type": "code",
   "execution_count": null,
   "id": "485ed1f5-e5a4-4e0a-8606-60c6b6b995b5",
   "metadata": {},
   "outputs": [],
   "source": []
  },
  {
   "cell_type": "code",
   "execution_count": null,
   "id": "abdedbc1-508d-4472-a332-17d707252d51",
   "metadata": {},
   "outputs": [],
   "source": []
  },
  {
   "cell_type": "code",
   "execution_count": null,
   "id": "c8b629f8-9001-478c-8937-218ec128d76e",
   "metadata": {},
   "outputs": [],
   "source": []
  },
  {
   "cell_type": "code",
   "execution_count": null,
   "id": "faf2207b-6413-4e64-97fa-b3eee405b530",
   "metadata": {},
   "outputs": [],
   "source": []
  },
  {
   "cell_type": "code",
   "execution_count": null,
   "id": "3a8ae45a-81c3-4e1b-abd4-ee34286ce656",
   "metadata": {},
   "outputs": [],
   "source": []
  },
  {
   "cell_type": "code",
   "execution_count": null,
   "id": "af2bae54-6e90-4eff-b4f0-d07325a2348b",
   "metadata": {},
   "outputs": [],
   "source": []
  },
  {
   "cell_type": "code",
   "execution_count": null,
   "id": "e5cba42d-a2be-4335-9fa1-ac8e43b10b94",
   "metadata": {},
   "outputs": [],
   "source": []
  }
 ],
 "metadata": {
  "kernelspec": {
   "display_name": "Python 3 (ipykernel)",
   "language": "python",
   "name": "python3"
  },
  "language_info": {
   "codemirror_mode": {
    "name": "ipython",
    "version": 3
   },
   "file_extension": ".py",
   "mimetype": "text/x-python",
   "name": "python",
   "nbconvert_exporter": "python",
   "pygments_lexer": "ipython3",
   "version": "3.9.19"
  }
 },
 "nbformat": 4,
 "nbformat_minor": 5
}
