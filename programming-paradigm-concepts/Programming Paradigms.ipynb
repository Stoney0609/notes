{
 "cells": [
  {
   "cell_type": "markdown",
   "id": "6512baaf-a9d6-4f5b-a9c1-201a3d630db9",
   "metadata": {},
   "source": [
    "# Programming paradigms"
   ]
  },
  {
   "cell_type": "markdown",
   "id": "5c72693c-ade5-43b7-a4db-dc5a325fb1a6",
   "metadata": {},
   "source": [
    "## Overview\n",
    "\n",
    "* A programming paradigm is an approach to solve problems using some programming language or also we can say it is a method to solve a problem using tools and techniques that are available to us following some approach.\n",
    "* There are lots of programming languages that are known but all of them need to follow some strategy when they are implemented and this methodology/strategy is paradigms.\n",
    "* Apart from varieties of programming languages, there are lots of paradigms to fulfill each and every demand.\n",
    "\n",
    "<img src=\"overview.png\" /> "
   ]
  },
  {
   "cell_type": "markdown",
   "id": "8f643f56-3493-41a2-aa68-5d227060c951",
   "metadata": {},
   "source": [
    "### Imperative programming\n",
    "\n",
    "* This is how you describe it, mostly. Developers are more concerned with how to get an answer step by step.\n",
    "* It comprises the sequence of command imperatives. The programmer specifies a number of actions or steps the computer has to perform to compute the intended result.\n",
    "\n",
    "### Declarative programming\n",
    "\n",
    "* This paradigm describes what programs to be executed.\n",
    "* Developers are more concerned with the answer that is received.\n",
    "\n",
    "<img src=\"imperative-declarative.png\" alt=\"differences\" />"
   ]
  },
  {
   "cell_type": "markdown",
   "id": "b262477e-6030-4bcf-ab1f-ce1c33e761c0",
   "metadata": {},
   "source": [
    "source links: \n",
    "- [Declarative vs imperative](https://dev.to/ruizb/declarative-vs-imperative-4a7l)\n",
    "- Medium [Declarative vs Imperative Programming](https://codeburst.io/declarative-vs-imperative-programming-a8a7c93d9ad2)\n",
    "- UI Dev [Imperative vs Declarative Programming](https://ui.dev/imperative-vs-declarative-programming)\n",
    "- geeks for geeks [Difference Between Imperative and Declarative Programming](https://www.geeksforgeeks.org/difference-between-imperative-and-declarative-programming/)\n",
    "- Reddit post [Let's talk about programming paradigms](https://www.reddit.com/r/learnprogramming/comments/xpqo2/lets_talk_about_programming_paradigms/)\n",
    "- Reddit post [Declarative vs Imperative](https://www.reddit.com/r/ProgrammingLanguages/comments/18ne0xh/declarative_vs_imperative/)"
   ]
  }
 ],
 "metadata": {
  "kernelspec": {
   "display_name": "Python 3 (ipykernel)",
   "language": "python",
   "name": "python3"
  },
  "language_info": {
   "codemirror_mode": {
    "name": "ipython",
    "version": 3
   },
   "file_extension": ".py",
   "mimetype": "text/x-python",
   "name": "python",
   "nbconvert_exporter": "python",
   "pygments_lexer": "ipython3",
   "version": "3.9.19"
  }
 },
 "nbformat": 4,
 "nbformat_minor": 5
}
