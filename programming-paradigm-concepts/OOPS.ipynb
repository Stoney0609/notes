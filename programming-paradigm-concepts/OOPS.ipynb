{
 "cells": [
  {
   "cell_type": "markdown",
   "id": "39109250-a837-43ef-ad2c-5e5b91e4567c",
   "metadata": {},
   "source": [
    "# Object Oriented Programming in Python\n",
    "\n",
    "\n",
    "Overview:\n",
    "\n",
    "\n",
    "- A foundational programming paradigm where data is stored as attributes and code in the form of methods. \n",
    "- OOP is a way to build flexible and reusable code to develop more advanced software.\n",
    "- Software programs are more secure with the encapsulation approach.\n",
    "- It is usually easy to maintain the code written using OOPS structure.\n",
    "\n",
    "\n",
    "Fundamental Concepts:\n",
    "* Object\n",
    "* Class\n",
    "* Attribute\n",
    "* Method\n",
    "\n",
    "Core principles of OOP\n",
    "* Abstraction\n",
    "* Encapsulation\n",
    "* Inheritance\n",
    "* Polymorphism\n"
   ]
  },
  {
   "cell_type": "markdown",
   "id": "70d3d3e3-fdb4-4910-9735-eca395c202c3",
   "metadata": {},
   "source": [
    "## 1. Fundamental Concepts"
   ]
  },
  {
   "cell_type": "markdown",
   "id": "18d9e8ec-dc8a-4d10-9da9-ab1ad96d1875",
   "metadata": {},
   "source": [
    "### 1.1 Class\n",
    "* A class is a collection of objects, a user-defined **data structure**, which holds its own data members and member functions ***methods***\n",
    "* It contains the blueprints or the prototype from which the ***objects*** are being created.\n",
    "> A class **car** is supposed to be a collection of cars\n",
    "\n",
    "### 1.2 Object\n",
    "- An object is *“a thing from the real world”* of interest to the software application that we are building. \n",
    "- It is what you would want to store and process data about.\n",
    "- Also called as an entity or ***instance***. An object is created using a **class**\n",
    "> Your car is an object of the class car\n",
    "\n",
    "### 1.3 Attribute\n",
    "* All the information about the blueprint of a car is provided as ***attributes***\n",
    "> Your car has attributes make, model, year, mileage, color, brakes, alloys\n",
    "* Two types of attributes\n",
    "    * **Class attributes**: These attributes are the same for all the instances of class\n",
    "        > warranty is usually 3 yrs, emission standard in most cars is \"Euro 6\" etc\n",
    "    * **Instance attributes**: These attributes are specific for an instance & are NOT necessary for initialize a class instance\n",
    "        > In addition to those in __init__ method, color, alloys etc\n",
    "* Attributes can be hidden using `__hiddenVariable`. To access these hidden variables, use `class._class__hiddenVariable` or `instance._class__hiddenVariable`\n",
    "\n",
    "### 1.4 Method\n",
    "* All the behavior/functionality of a class is called as a ***method***\n",
    "* Methods can manipulate object's attributes and provide the functionalities defined by the class\n",
    "> You can get the most recent driving info of your car, or start your car etc\n",
    "* ***DO NOT CONFUSE METHOD WITH A FUNCTION!!!*** A method is defined only for a class object while a function is defined for any variable.\n",
    "\n",
    "#### 1.4.1 Constructor or Initialize method\n",
    "* Init method is called by default whenever you create an object from a ***class***\n",
    "* The variables passed into this `__init__` method and are necessary for any object of class car\n",
    "> A car must have a make, model, year although you can change its color, engine (mileage), brakes, alloys etc\n",
    "#### 1.4.2 Self\n",
    "* The term ***“self”*** refers to the instance of the class that is currently being used. It is basically a pointer to the class instance.\n",
    "* By using the “self”  we can access the attributes and methods of the class instance in Python.\n",
    "* `__init__` method is called when we create an instance and all the methods and attributes of this class instance are initialized"
   ]
  },
  {
   "cell_type": "code",
   "execution_count": 2,
   "id": "3fb50d79-cdef-4544-8036-431616f01178",
   "metadata": {
    "jp-MarkdownHeadingCollapsed": true
   },
   "outputs": [],
   "source": [
    "class car(): \n",
    "    #class variables/attributes\n",
    "    no_wheels = 4\n",
    "    warranty_period = 3\n",
    "    emission_standard = \"Euro 6\"\n",
    "    total_cars_initiated = 0\n",
    "    total_cars = 0\n",
    "    __k = 0 # hidden class attribute\n",
    "    def __init__(self, make, model, year):\n",
    "        #instance variables/attributes or parameters\n",
    "        self.make = make\n",
    "        self.model = model\n",
    "        self.year = year\n",
    "        car.total_cars_initiated += 1 ## total cars initiated\n",
    "    def get_info(self):\n",
    "        print(f\"make: {self.make} \\nmodel: {self.model} \\nyear:{self.year}\")\n",
    "    def get_extended_warranty(self, no_years):\n",
    "        self.warranty_period = car.warranty_period + no_years # use this to change the class attribute for this particular instance\n",
    "        # car.warranty_period += no_years # use this to change the class attribute for entire class \n",
    "    @classmethod\n",
    "    def set_emission_standard(cls, new_emission_standard):\n",
    "        cls.emission_standard = new_emission_standard\n",
    "    @classmethod\n",
    "    def from_string(cls, str):\n",
    "        make, model, year = str.split('-')\n",
    "        return cls(make,model,year)\n",
    "    @staticmethod\n",
    "    def is_valid_year(year):\n",
    "        return (year in range(1886,2025))"
   ]
  },
  {
   "cell_type": "code",
   "execution_count": 3,
   "id": "70aa9fa0-aecd-433d-9561-77a5cf6171c3",
   "metadata": {},
   "outputs": [
    {
     "name": "stdout",
     "output_type": "stream",
     "text": [
      "make: BMW \n",
      "model: 330i \n",
      "year:2022\n"
     ]
    }
   ],
   "source": [
    "a = car(\"BMW\", \"330i\", \"2022\")\n",
    "a.get_info()"
   ]
  },
  {
   "cell_type": "markdown",
   "id": "dc45092c-8791-45ef-ada7-21ec750841eb",
   "metadata": {},
   "source": [
    "### 1.4.3 Class Attributes (or Variables) [Also called as static variables]"
   ]
  },
  {
   "cell_type": "markdown",
   "id": "06419a41-1468-4dcf-bb92-08c1bddae2e5",
   "metadata": {},
   "source": [
    "* Get **list of all methods and attributes** of an instance using `dir(instance)` \n",
    "* Get the **namespace of a class / instance** `class.__dict__` or `instance.__dict__`\n",
    "    * Class variables do not showup in the namespace of an instance, however can be accessed \n",
    "* Create **hidden variables** (both for instance or class) using `__hiddenVariable` or `self.__hiddenVariable`. Access hidden variables using `instance._class__hiddenVariable`\n",
    "* We do not see the attribute `a.warranty_period` in the namespace `a.__dict__` as it is a class variable. We however see the `car.warranty_period` in `car.__dict__`\n",
    "* When we access the method `get_extended_warranty(n: integer)` for an instance, it initiates the `warranty_period` as an instance attribute in the definition and then we can see it in the namespace.\n",
    "* Basically class variables can be accessed for an instance `instance.classVariable` however we don't see those in the namespace unless initiated as an instance variable in one of the methods of a class.\n",
    "* The `total_cars_initiated` is a class variable that gets updated each time the class `car` is initiated. "
   ]
  },
  {
   "cell_type": "code",
   "execution_count": 4,
   "id": "7483b6d9-c2fa-44ab-8740-bb7061b88c10",
   "metadata": {
    "scrolled": true
   },
   "outputs": [
    {
     "name": "stdout",
     "output_type": "stream",
     "text": [
      "List of all methods & attributes \n",
      "['__class__', '__delattr__', '__dict__', '__dir__', '__doc__', '__eq__', '__format__', '__ge__', '__getattribute__', '__gt__', '__hash__', '__init__', '__init_subclass__', '__le__', '__lt__', '__module__', '__ne__', '__new__', '__reduce__', '__reduce_ex__', '__repr__', '__setattr__', '__sizeof__', '__str__', '__subclasshook__', '__weakref__', '_car__k', 'emission_standard', 'from_string', 'get_extended_warranty', 'get_info', 'is_valid_year', 'make', 'model', 'no_wheels', 'set_emission_standard', 'total_cars', 'total_cars_initiated', 'warranty_period', 'year']\n",
      "\n",
      "Namespace of instance {'make': 'BMW', 'model': '330i', 'year': '2022'}\n",
      "Class namespace: {'__module__': '__main__', 'no_wheels': 4, 'warranty_period': 3, 'emission_standard': 'Euro 6', 'total_cars_initiated': 1, 'total_cars': 0, '_car__k': 0, '__init__': <function car.__init__ at 0x7fd140d89790>, 'get_info': <function car.get_info at 0x7fd140d891f0>, 'get_extended_warranty': <function car.get_extended_warranty at 0x7fd140d89a60>, 'set_emission_standard': <classmethod object at 0x7fd14051b250>, 'from_string': <classmethod object at 0x7fd14051b850>, 'is_valid_year': <staticmethod object at 0x7fd14051b3a0>, '__dict__': <attribute '__dict__' of 'car' objects>, '__weakref__': <attribute '__weakref__' of 'car' objects>, '__doc__': None}\n",
      "Hidden variable __k=0\n",
      "Instance namespace: {'make': 'BMW', 'model': '330i', 'year': '2022', 'warranty_period': 6}\n",
      "Total cars = 2\n"
     ]
    }
   ],
   "source": [
    "print(f\"List of all methods & attributes \\n{dir(a)}\\n\")\n",
    "print(f\"Namespace of instance {a.__dict__}\")\n",
    "print(f\"Class namespace: {car.__dict__}\")\n",
    "\n",
    "print(f\"Hidden variable __k={a._car__k}\")\n",
    "\n",
    "a.get_extended_warranty(3)\n",
    "print(f\"Instance namespace: {a.__dict__}\")\n",
    "\n",
    "b = car(\"Tesla\",\"Model-S\",\"2024\")\n",
    "print(f\"Total cars = {car.total_cars_initiated}\")"
   ]
  },
  {
   "cell_type": "markdown",
   "id": "13895543-5161-494c-a518-9b4a644aa8b6",
   "metadata": {},
   "source": [
    "### 1.4.4 Types of Methods - Regular, Class & Static"
   ]
  },
  {
   "cell_type": "markdown",
   "id": "8d979bac-c176-4765-8c66-f437aeeb46ef",
   "metadata": {},
   "source": [
    "**Regular Methods**\n",
    "* They take the instance (`self`) as the first argument. This is to change the attributes/methods of an instance. \n",
    "\n",
    "**Class Methods**\n",
    "* They take class (`cls`) as the first argument. Created using a decorator `@classmethod`\n",
    "> In the above class, `car.emission_standard = \"Euro 7\"` is the same as `car.set_emission_standard(\"Euro 7\")`.\n",
    "> However, `a.emission_standard = \"Euro 7\"` is NOT the same as `a.set_emission_standard(\"Euro 7\")` because the class method `set_emission_standard` changes emission_standard for the entire class.\n",
    "* Using class methods for an instance DOES NOT make sense, however the code technically works ableit for the entire class.\n",
    "* Class methods are also used as **alternative constructors**\n",
    "    * Assuming we are receiving data for each car instance in a string format `\"make-model-year\"`, then we can initialize a instance using the method `c = car.from_string(\"GMC-Hummer-2024\")`\n",
    "\n",
    "**Static Methods**\n",
    "* Do not take either an instance `self` or a class `cls` as the argument. Created using a decorator `@staticmethod`\n",
    "* However, these methods still have some connection with the class which is why they are not stand alone Functions!\n",
    "> Assuming valid year for a car is 1886 (first manufactured car was in 1886), we can check the year validity using the method `a.is_valid_year(a.year)`"
   ]
  },
  {
   "cell_type": "markdown",
   "id": "6fecc726-0367-45f3-87b7-a73156b6ffb7",
   "metadata": {},
   "source": [
    "## 2. Principles of OOP"
   ]
  },
  {
   "cell_type": "markdown",
   "id": "5b1d9f99-84da-42d7-b574-0af4577eaa54",
   "metadata": {},
   "source": [
    "### 1. Abstraction\n",
    "* It is a process of ***simplifying reality***. This means to hide the complexities of the **implementation** of a method and showing only the essential **functionality** (attribute and behavior) of an object.\n",
    "* The goal of this principle is to (have a user of this class) be able to focus on **WHAT** rather than **HOW** \n",
    "* This allows programmers to focus on high-level concepts without getting entangled in the nitty-gritty implementation specifics.\n",
    "> If you need to turn off a car, you should be able to do it without any knowledge about other details about the car like suspension, engine capacity, fuel level etc. This means all the information related to turning off a car need to be made available to the user and all other information need not be provided. \n",
    "\n",
    "Significance of abstraction:\n",
    "* Clarity & Readability - More concise representation of real world entities, making the code more intuitive.\n",
    "* Modularity & Reusability - By abstracting **common** attributes and methods into a class, we can create reusable code that can be integrated into different software components\n",
    "* Maintenance & Scalability - simplifies maintenance by encapsulating changes within a class & thereby minimizing the impact on other components. It also helps in scaling as we can add new functionalities without disrupting the existing structure.\n",
    "\n",
    "Abstract class\n",
    "\n",
    "Two types of Abstraction:\n",
    "1. Data abstraction\n",
    "2. Process abstraction    "
   ]
  },
  {
   "cell_type": "markdown",
   "id": "6e6c554c-a962-4845-b87f-7c2b32cc490a",
   "metadata": {},
   "source": [
    "#### 1. Data abstraction"
   ]
  },
  {
   "cell_type": "markdown",
   "id": "b2c841b1-7973-41f2-ae9d-af6aa50b4109",
   "metadata": {},
   "source": [
    "* Focuses on displaying only the essential features of an object while hiding the implementation details.\n",
    "* Hides the details of how data is stored or represented and provides a simplified interface for interacting with the data.\n",
    "* Allows users (of a class object) to define abstract data types without being concerned with the data represented within the class\n",
    "* In practice, data abstraction is implemented using abstract classes and methods."
   ]
  },
  {
   "cell_type": "markdown",
   "id": "df88fb23-1c58-4f3c-864a-563c9a5d6ed4",
   "metadata": {},
   "source": [
    "#### 2. Process abstraction"
   ]
  },
  {
   "cell_type": "markdown",
   "id": "46f89952-4148-4074-9af3-7288dd47d1e2",
   "metadata": {},
   "source": [
    " * Focuses on abstracting the behavior or processes of an object by hiding complex sequences of operations, exposing only the relevant functionality.\n",
    "* It allows developers to define the methods an object that can perform without specifying how these methods are implemented.\n",
    "* As a user of an object, the underlying implementations details will be hidden and only the functionality of a method is exposed. "
   ]
  },
  {
   "cell_type": "code",
   "execution_count": 2,
   "id": "81e2e05f-1374-45ce-9c9e-0293d10e50ff",
   "metadata": {},
   "outputs": [],
   "source": [
    "from abc import ABC, abstractmethod\n"
   ]
  },
  {
   "cell_type": "code",
   "execution_count": null,
   "id": "6907398a-47e3-480e-838e-13d47684abbf",
   "metadata": {},
   "outputs": [],
   "source": []
  },
  {
   "cell_type": "code",
   "execution_count": null,
   "id": "89c2221d-46d6-4f2f-9af6-73e952bf8c96",
   "metadata": {},
   "outputs": [],
   "source": []
  },
  {
   "cell_type": "code",
   "execution_count": null,
   "id": "5f3ff7c6-ef9b-467a-8387-3ec08cf00f28",
   "metadata": {},
   "outputs": [],
   "source": []
  },
  {
   "cell_type": "code",
   "execution_count": null,
   "id": "d736cab1-c2b7-4849-9ca4-464ca4122f2d",
   "metadata": {},
   "outputs": [],
   "source": []
  },
  {
   "cell_type": "code",
   "execution_count": null,
   "id": "15e60ae2-6459-4d4d-b5f9-58cf8290e707",
   "metadata": {},
   "outputs": [],
   "source": []
  },
  {
   "cell_type": "code",
   "execution_count": null,
   "id": "3fd9afa7-fb0f-42b5-a131-d8449bbd9548",
   "metadata": {},
   "outputs": [],
   "source": []
  },
  {
   "cell_type": "code",
   "execution_count": null,
   "id": "8e7634d3-5aad-4401-bb1c-165fb42ba9be",
   "metadata": {},
   "outputs": [],
   "source": []
  },
  {
   "cell_type": "code",
   "execution_count": null,
   "id": "206d827b-6617-488d-b7cb-6a9721ff6028",
   "metadata": {},
   "outputs": [],
   "source": []
  },
  {
   "cell_type": "code",
   "execution_count": null,
   "id": "e390c99d-11e0-41e6-8f09-bd01d1add6b9",
   "metadata": {},
   "outputs": [],
   "source": []
  },
  {
   "cell_type": "markdown",
   "id": "00aa8b62-cd75-45fb-ad2c-14bf9a70c17c",
   "metadata": {},
   "source": [
    "sources: \n",
    "* Geeke for Geeks\n",
    "    * [self in Python class](https://www.geeksforgeeks.org/self-in-python-class/)\n",
    "    * [Python Classes and Objects](https://www.geeksforgeeks.org/python-classes-and-objects/)\n",
    "    * [Difference between Instance Variable and Class Variable](https://www.geeksforgeeks.org/difference-between-instance-variable-and-class-variable/)\n",
    "    * [Class or Static Variables in Python](https://www.geeksforgeeks.org/g-fact-34-class-or-static-variables-in-python/)\n",
    "    * [Data Hiding and Object Printing](https://www.geeksforgeeks.org/object-oriented-programming-in-python-set-2-data-hiding-and-object-printing/)\n",
    "* Youtube\n",
    "    * [Python OOP Tutorial](https://www.youtube.com/watch?v=ZDa-Z5JzLYM&list=PL-osiE80TeTsqhIuOqKhwlXsIBIdSeYtc&pp=iAQB) by Corey Schafer\n",
    "    * Arjan Codes\n",
    "    * [Fundamental Concepts of Object Oriented Programming](https://www.youtube.com/watch?v=m_MQYyJpIjg&t=498s)\n",
    "* IBM Tutorial [Object-oriented programming in Python](https://developer.ibm.com/tutorials/object-oriented-programming-in-python/#attributes2)"
   ]
  },
  {
   "cell_type": "code",
   "execution_count": null,
   "id": "ba74e159-bf0c-4210-8d85-b3f16f7d8d6c",
   "metadata": {},
   "outputs": [],
   "source": []
  }
 ],
 "metadata": {
  "kernelspec": {
   "display_name": "Python 3 (ipykernel)",
   "language": "python",
   "name": "python3"
  },
  "language_info": {
   "codemirror_mode": {
    "name": "ipython",
    "version": 3
   },
   "file_extension": ".py",
   "mimetype": "text/x-python",
   "name": "python",
   "nbconvert_exporter": "python",
   "pygments_lexer": "ipython3",
   "version": "3.9.19"
  }
 },
 "nbformat": 4,
 "nbformat_minor": 5
}
